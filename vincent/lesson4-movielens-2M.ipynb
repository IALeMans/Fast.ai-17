{
 "cells": [
  {
   "cell_type": "code",
   "execution_count": 1,
   "metadata": {
    "scrolled": true
   },
   "outputs": [
    {
     "name": "stderr",
     "output_type": "stream",
     "text": [
      "WARNING (theano.sandbox.cuda): The cuda backend is deprecated and will be removed in the next release (v0.10).  Please switch to the gpuarray backend. You can get more information about how to switch at this URL:\n",
      " https://github.com/Theano/Theano/wiki/Converting-to-the-new-gpu-back-end%28gpuarray%29\n",
      "\n",
      "Using gpu device 0: Tesla K80 (CNMeM is disabled, cuDNN 5110)\n",
      "Using TensorFlow backend.\n"
     ]
    }
   ],
   "source": [
    "from __future__ import division, print_function\n",
    "%matplotlib inline\n",
    "from importlib import reload  # Python 3\n",
    "import utils; reload(utils)\n",
    "from utils import *\n",
    "from keras.layers.merge import dot, add, concatenate"
   ]
  },
  {
   "cell_type": "code",
   "execution_count": 2,
   "metadata": {},
   "outputs": [],
   "source": [
    "#path = \"data/ml-latest-small/\"  # from https://grouplens.org/datasets/movielens/\n",
    "#path = \"data/ml-20m/\"\n",
    "path = \"datas/movielens/\" #from https://github.com/ChicagoBoothML/DATA___MovieLens___20M\n",
    "model_path = path + 'models/'\n",
    "if not os.path.exists(model_path): os.mkdir(model_path)\n",
    "\n",
    "batch_size=64\n",
    "#batch_size=1"
   ]
  },
  {
   "cell_type": "code",
   "execution_count": 3,
   "metadata": {},
   "outputs": [],
   "source": [
    "#20M dataset\n",
    "#ratings = pd.read_csv(path+'ratings.csv')\n",
    "\n",
    "#2M dataset\n",
    "ratings = pd.read_csv(path+'ratings01.csv')\n",
    "\n",
    "#100k dataset\n",
    "#ratings = pd.read_csv(path+'ratings100k.csv')"
   ]
  },
  {
   "cell_type": "code",
   "execution_count": 4,
   "metadata": {},
   "outputs": [
    {
     "data": {
      "text/html": [
       "<div>\n",
       "<style>\n",
       "    .dataframe thead tr:only-child th {\n",
       "        text-align: right;\n",
       "    }\n",
       "\n",
       "    .dataframe thead th {\n",
       "        text-align: left;\n",
       "    }\n",
       "\n",
       "    .dataframe tbody tr th {\n",
       "        vertical-align: top;\n",
       "    }\n",
       "</style>\n",
       "<table border=\"1\" class=\"dataframe\">\n",
       "  <thead>\n",
       "    <tr style=\"text-align: right;\">\n",
       "      <th></th>\n",
       "      <th>userId</th>\n",
       "      <th>movieId</th>\n",
       "      <th>rating</th>\n",
       "      <th>timestamp</th>\n",
       "    </tr>\n",
       "  </thead>\n",
       "  <tbody>\n",
       "    <tr>\n",
       "      <th>0</th>\n",
       "      <td>1</td>\n",
       "      <td>2</td>\n",
       "      <td>3.5</td>\n",
       "      <td>1112486027</td>\n",
       "    </tr>\n",
       "    <tr>\n",
       "      <th>1</th>\n",
       "      <td>1</td>\n",
       "      <td>29</td>\n",
       "      <td>3.5</td>\n",
       "      <td>1112484676</td>\n",
       "    </tr>\n",
       "    <tr>\n",
       "      <th>2</th>\n",
       "      <td>1</td>\n",
       "      <td>32</td>\n",
       "      <td>3.5</td>\n",
       "      <td>1112484819</td>\n",
       "    </tr>\n",
       "    <tr>\n",
       "      <th>3</th>\n",
       "      <td>1</td>\n",
       "      <td>47</td>\n",
       "      <td>3.5</td>\n",
       "      <td>1112484727</td>\n",
       "    </tr>\n",
       "    <tr>\n",
       "      <th>4</th>\n",
       "      <td>1</td>\n",
       "      <td>50</td>\n",
       "      <td>3.5</td>\n",
       "      <td>1112484580</td>\n",
       "    </tr>\n",
       "  </tbody>\n",
       "</table>\n",
       "</div>"
      ],
      "text/plain": [
       "   userId  movieId  rating   timestamp\n",
       "0       1        2     3.5  1112486027\n",
       "1       1       29     3.5  1112484676\n",
       "2       1       32     3.5  1112484819\n",
       "3       1       47     3.5  1112484727\n",
       "4       1       50     3.5  1112484580"
      ]
     },
     "execution_count": 4,
     "metadata": {},
     "output_type": "execute_result"
    }
   ],
   "source": [
    "#show 5 first file rows\n",
    "ratings.head()"
   ]
  },
  {
   "cell_type": "code",
   "execution_count": 5,
   "metadata": {},
   "outputs": [
    {
     "data": {
      "text/plain": [
       "2000000"
      ]
     },
     "execution_count": 5,
     "metadata": {},
     "output_type": "execute_result"
    }
   ],
   "source": [
    "#nb of lines\n",
    "len(ratings)"
   ]
  },
  {
   "cell_type": "markdown",
   "metadata": {},
   "source": [
    "## datas prep\n",
    "1. read files : ratings + movies\n",
    "1. get list of unique items in ratings : users ID & movies ID\n",
    "1. reorder users ID & movies ID to have countinuous integer items"
   ]
  },
  {
   "cell_type": "code",
   "execution_count": 6,
   "metadata": {},
   "outputs": [],
   "source": [
    "#read film names\n",
    "movie_names = pd.read_csv(path+'movies.csv').set_index('movieId')['title'].to_dict\n",
    "\n",
    "#https://www.datacamp.com/community/tutorials/pandas-tutorial-dataframe-python\n",
    "#https://pandas.pydata.org/pandas-docs/stable/generated/pandas.DataFrame.to_dict.html\n",
    "#https://stackoverflow.com/questions/30060616/python-pandas-to-dict-function"
   ]
  },
  {
   "cell_type": "code",
   "execution_count": 7,
   "metadata": {},
   "outputs": [
    {
     "name": "stdout",
     "output_type": "stream",
     "text": [
      "movieId\n",
      "1                      Toy Story (1995)\n",
      "2                        Jumanji (1995)\n",
      "3               Grumpier Old Men (1995)\n",
      "4              Waiting to Exhale (1995)\n",
      "5    Father of the Bride Part II (1995)\n",
      "Name: title, dtype: object\n"
     ]
    }
   ],
   "source": [
    "movie_names1 = pd.read_csv(path+'movies.csv').set_index('movieId')['title']\n",
    "print(movie_names1[:5])"
   ]
  },
  {
   "cell_type": "code",
   "execution_count": 8,
   "metadata": {
    "scrolled": false
   },
   "outputs": [
    {
     "name": "stdout",
     "output_type": "stream",
     "text": [
      "                                      title  \\\n",
      "movieId                                       \n",
      "1                          Toy Story (1995)   \n",
      "2                            Jumanji (1995)   \n",
      "3                   Grumpier Old Men (1995)   \n",
      "4                  Waiting to Exhale (1995)   \n",
      "5        Father of the Bride Part II (1995)   \n",
      "\n",
      "                                              genres  \n",
      "movieId                                               \n",
      "1        Adventure|Animation|Children|Comedy|Fantasy  \n",
      "2                         Adventure|Children|Fantasy  \n",
      "3                                     Comedy|Romance  \n",
      "4                               Comedy|Drama|Romance  \n",
      "5                                             Comedy  \n"
     ]
    }
   ],
   "source": [
    "movie_names2 = pd.read_csv(path+'movies.csv').set_index('movieId')\n",
    "print(movie_names2[:5])"
   ]
  },
  {
   "cell_type": "code",
   "execution_count": 9,
   "metadata": {},
   "outputs": [
    {
     "name": "stdout",
     "output_type": "stream",
     "text": [
      "[ 1  2  3  4  5  6  7  8  9 10 11 12 13 14 15 16 17 18 19 20]\n",
      "[  2  29  32  47  50 112 151 223 253 260 293 296 318 337 367 541 589 593 653 919]\n"
     ]
    }
   ],
   "source": [
    "usersUniq = ratings.userId.unique()\n",
    "moviesUniq = ratings.movieId.unique()\n",
    "\n",
    "print(usersUniq[:20])\n",
    "print(moviesUniq[:20])"
   ]
  },
  {
   "cell_type": "code",
   "execution_count": 10,
   "metadata": {
    "scrolled": false
   },
   "outputs": [],
   "source": [
    "# userId and movieId become ditionary elements with values ranging from 0 to max len \n",
    "userUniqID2idx = {userID:index for index,userID in enumerate(usersUniq)}\n",
    "movieUniqID2idx = {movieID:index for index,movieID in enumerate(moviesUniq)}"
   ]
  },
  {
   "cell_type": "code",
   "execution_count": 11,
   "metadata": {},
   "outputs": [
    {
     "data": {
      "text/plain": [
       "{1: 227,\n",
       " 2: 0,\n",
       " 3: 175,\n",
       " 4: 1994,\n",
       " 5: 1044,\n",
       " 6: 364,\n",
       " 7: 420,\n",
       " 8: 1965,\n",
       " 9: 1677,\n",
       " 10: 365}"
      ]
     },
     "execution_count": 11,
     "metadata": {},
     "output_type": "execute_result"
    }
   ],
   "source": [
    "{movieID : movieUniqID2idx[movieID] for movieID in list(movieUniqID2idx)[:10]}"
   ]
  },
  {
   "cell_type": "code",
   "execution_count": 12,
   "metadata": {},
   "outputs": [
    {
     "data": {
      "text/plain": [
       "0       2\n",
       "1      29\n",
       "2      32\n",
       "3      47\n",
       "4      50\n",
       "5     112\n",
       "6     151\n",
       "7     223\n",
       "8     253\n",
       "9     260\n",
       "10    293\n",
       "11    296\n",
       "12    318\n",
       "13    337\n",
       "14    367\n",
       "15    541\n",
       "16    589\n",
       "17    593\n",
       "18    653\n",
       "19    919\n",
       "Name: movieId, dtype: int64"
      ]
     },
     "execution_count": 12,
     "metadata": {},
     "output_type": "execute_result"
    }
   ],
   "source": [
    "ratings.movieId[:20]"
   ]
  },
  {
   "cell_type": "code",
   "execution_count": 13,
   "metadata": {},
   "outputs": [],
   "source": [
    "#We update the movie and user ids so that they are contiguous integers, which we want when using embeddings.\n",
    "ratings.movieId = ratings.movieId.apply(lambda x: movieUniqID2idx[x])\n",
    "ratings.userId = ratings.userId.apply(lambda x: userUniqID2idx[x])\n",
    "\n",
    "#https://chrisalbon.com/python/data_wrangling/pandas_apply_operations_to_dataframes/"
   ]
  },
  {
   "cell_type": "code",
   "execution_count": 14,
   "metadata": {},
   "outputs": [
    {
     "data": {
      "text/plain": [
       "0      0\n",
       "1      1\n",
       "2      2\n",
       "3      3\n",
       "4      4\n",
       "5      5\n",
       "6      6\n",
       "7      7\n",
       "8      8\n",
       "9      9\n",
       "10    10\n",
       "11    11\n",
       "12    12\n",
       "13    13\n",
       "14    14\n",
       "Name: movieId, dtype: int64"
      ]
     },
     "execution_count": 14,
     "metadata": {},
     "output_type": "execute_result"
    }
   ],
   "source": [
    "ratings.movieId[:15]"
   ]
  },
  {
   "cell_type": "code",
   "execution_count": 15,
   "metadata": {},
   "outputs": [],
   "source": [
    "user_min, user_max, movie_min, movie_max = (ratings.userId.min(), \n",
    "    ratings.userId.max(), ratings.movieId.min(), ratings.movieId.max())"
   ]
  },
  {
   "cell_type": "code",
   "execution_count": 16,
   "metadata": {},
   "outputs": [],
   "source": [
    "n_users = ratings.userId.nunique()\n",
    "n_movies = ratings.movieId.nunique()"
   ]
  },
  {
   "cell_type": "code",
   "execution_count": 17,
   "metadata": {},
   "outputs": [
    {
     "data": {
      "text/plain": [
       "(0, 13566, 0, 16714, 13567, 16715)"
      ]
     },
     "execution_count": 17,
     "metadata": {},
     "output_type": "execute_result"
    }
   ],
   "source": [
    "user_min, user_max, movie_min, movie_max, n_users, n_movies"
   ]
  },
  {
   "cell_type": "markdown",
   "metadata": {},
   "source": [
    "### embeddings"
   ]
  },
  {
   "cell_type": "code",
   "execution_count": 18,
   "metadata": {},
   "outputs": [],
   "source": [
    "#number of latent factors in each embedding\n",
    "n_factors = 50"
   ]
  },
  {
   "cell_type": "code",
   "execution_count": 19,
   "metadata": {},
   "outputs": [],
   "source": [
    "np.random.seed = 42\n",
    "\n",
    "#https://docs.scipy.org/doc/numpy-1.13.0/reference/generated/numpy.random.seed.html"
   ]
  },
  {
   "cell_type": "code",
   "execution_count": 20,
   "metadata": {},
   "outputs": [
    {
     "name": "stdout",
     "output_type": "stream",
     "text": [
      "[ True  True  True ...,  True  True  True]\n"
     ]
    }
   ],
   "source": [
    "#Randomly split into training and validation\n",
    "\n",
    "#Create an array of the given shape and populate it with random samples from a uniform distribution over [0, 1).\n",
    "msk = np.random.rand(len(ratings)) < 0.8\n",
    "print(msk)\n",
    "\n",
    "trn = ratings[msk]\n",
    "val = ratings[~msk]"
   ]
  },
  {
   "cell_type": "code",
   "execution_count": 21,
   "metadata": {},
   "outputs": [
    {
     "data": {
      "text/html": [
       "<div>\n",
       "<style>\n",
       "    .dataframe thead tr:only-child th {\n",
       "        text-align: right;\n",
       "    }\n",
       "\n",
       "    .dataframe thead th {\n",
       "        text-align: left;\n",
       "    }\n",
       "\n",
       "    .dataframe tbody tr th {\n",
       "        vertical-align: top;\n",
       "    }\n",
       "</style>\n",
       "<table border=\"1\" class=\"dataframe\">\n",
       "  <thead>\n",
       "    <tr style=\"text-align: right;\">\n",
       "      <th></th>\n",
       "      <th>userId</th>\n",
       "      <th>movieId</th>\n",
       "      <th>rating</th>\n",
       "      <th>timestamp</th>\n",
       "    </tr>\n",
       "  </thead>\n",
       "  <tbody>\n",
       "    <tr>\n",
       "      <th>0</th>\n",
       "      <td>0</td>\n",
       "      <td>0</td>\n",
       "      <td>3.5</td>\n",
       "      <td>1112486027</td>\n",
       "    </tr>\n",
       "    <tr>\n",
       "      <th>1</th>\n",
       "      <td>0</td>\n",
       "      <td>1</td>\n",
       "      <td>3.5</td>\n",
       "      <td>1112484676</td>\n",
       "    </tr>\n",
       "    <tr>\n",
       "      <th>2</th>\n",
       "      <td>0</td>\n",
       "      <td>2</td>\n",
       "      <td>3.5</td>\n",
       "      <td>1112484819</td>\n",
       "    </tr>\n",
       "    <tr>\n",
       "      <th>3</th>\n",
       "      <td>0</td>\n",
       "      <td>3</td>\n",
       "      <td>3.5</td>\n",
       "      <td>1112484727</td>\n",
       "    </tr>\n",
       "    <tr>\n",
       "      <th>4</th>\n",
       "      <td>0</td>\n",
       "      <td>4</td>\n",
       "      <td>3.5</td>\n",
       "      <td>1112484580</td>\n",
       "    </tr>\n",
       "  </tbody>\n",
       "</table>\n",
       "</div>"
      ],
      "text/plain": [
       "   userId  movieId  rating   timestamp\n",
       "0       0        0     3.5  1112486027\n",
       "1       0        1     3.5  1112484676\n",
       "2       0        2     3.5  1112484819\n",
       "3       0        3     3.5  1112484727\n",
       "4       0        4     3.5  1112484580"
      ]
     },
     "execution_count": 21,
     "metadata": {},
     "output_type": "execute_result"
    }
   ],
   "source": [
    "trn[:5]"
   ]
  },
  {
   "cell_type": "code",
   "execution_count": 22,
   "metadata": {},
   "outputs": [
    {
     "data": {
      "text/html": [
       "<div>\n",
       "<style>\n",
       "    .dataframe thead tr:only-child th {\n",
       "        text-align: right;\n",
       "    }\n",
       "\n",
       "    .dataframe thead th {\n",
       "        text-align: left;\n",
       "    }\n",
       "\n",
       "    .dataframe tbody tr th {\n",
       "        vertical-align: top;\n",
       "    }\n",
       "</style>\n",
       "<table border=\"1\" class=\"dataframe\">\n",
       "  <thead>\n",
       "    <tr style=\"text-align: right;\">\n",
       "      <th></th>\n",
       "      <th>userId</th>\n",
       "      <th>movieId</th>\n",
       "      <th>rating</th>\n",
       "      <th>timestamp</th>\n",
       "    </tr>\n",
       "  </thead>\n",
       "  <tbody>\n",
       "    <tr>\n",
       "      <th>6</th>\n",
       "      <td>0</td>\n",
       "      <td>6</td>\n",
       "      <td>4.0</td>\n",
       "      <td>1094785734</td>\n",
       "    </tr>\n",
       "    <tr>\n",
       "      <th>8</th>\n",
       "      <td>0</td>\n",
       "      <td>8</td>\n",
       "      <td>4.0</td>\n",
       "      <td>1112484940</td>\n",
       "    </tr>\n",
       "    <tr>\n",
       "      <th>10</th>\n",
       "      <td>0</td>\n",
       "      <td>10</td>\n",
       "      <td>4.0</td>\n",
       "      <td>1112484703</td>\n",
       "    </tr>\n",
       "    <tr>\n",
       "      <th>16</th>\n",
       "      <td>0</td>\n",
       "      <td>16</td>\n",
       "      <td>3.5</td>\n",
       "      <td>1112485557</td>\n",
       "    </tr>\n",
       "    <tr>\n",
       "      <th>20</th>\n",
       "      <td>0</td>\n",
       "      <td>20</td>\n",
       "      <td>3.5</td>\n",
       "      <td>1094785598</td>\n",
       "    </tr>\n",
       "  </tbody>\n",
       "</table>\n",
       "</div>"
      ],
      "text/plain": [
       "    userId  movieId  rating   timestamp\n",
       "6        0        6     4.0  1094785734\n",
       "8        0        8     4.0  1112484940\n",
       "10       0       10     4.0  1112484703\n",
       "16       0       16     3.5  1112485557\n",
       "20       0       20     3.5  1094785598"
      ]
     },
     "execution_count": 22,
     "metadata": {},
     "output_type": "execute_result"
    }
   ],
   "source": [
    "val[:5]"
   ]
  },
  {
   "cell_type": "markdown",
   "metadata": {},
   "source": [
    "### Neural net\n",
    "\n",
    "Rather than creating a special purpose architecture (like our dot-product with bias earlier), it's often both easier and more accurate to use a standard neural network. Let's try it! Here, we simply concatenate the user and movie embeddings into a single vector, which we feed into the neural net."
   ]
  },
  {
   "cell_type": "code",
   "execution_count": 23,
   "metadata": {},
   "outputs": [],
   "source": [
    "def embedding_input(name, n_in, n_out, reg):\n",
    "    inp = Input(shape=(1,), dtype='int64', name=name)\n",
    "    return inp, Embedding(input_dim=n_in, output_dim=n_out, input_length=1, embeddings_regularizer=l2(reg))(inp)"
   ]
  },
  {
   "cell_type": "code",
   "execution_count": 24,
   "metadata": {},
   "outputs": [],
   "source": [
    "user_in, u = embedding_input('user_in', n_users, n_factors, 1e-4)\n",
    "movie_in, m = embedding_input('movie_in', n_movies, n_factors, 1e-4)"
   ]
  },
  {
   "cell_type": "code",
   "execution_count": 25,
   "metadata": {},
   "outputs": [],
   "source": [
    "x = concatenate([u, m], axis=2)\n",
    "x = Flatten()(x)\n",
    "x = Dropout(0.3)(x)\n",
    "x = Dense(70, activation='relu')(x)\n",
    "x = Dropout(0.75)(x)\n",
    "x = Dense(1)(x)\n",
    "nn = Model([user_in, movie_in], x)\n",
    "nn.compile(Adam(0.001), loss='mse')"
   ]
  },
  {
   "cell_type": "code",
   "execution_count": 26,
   "metadata": {},
   "outputs": [
    {
     "name": "stdout",
     "output_type": "stream",
     "text": [
      "____________________________________________________________________________________________________\n",
      "Layer (type)                     Output Shape          Param #     Connected to                     \n",
      "====================================================================================================\n",
      "user_in (InputLayer)             (None, 1)             0                                            \n",
      "____________________________________________________________________________________________________\n",
      "movie_in (InputLayer)            (None, 1)             0                                            \n",
      "____________________________________________________________________________________________________\n",
      "embedding_1 (Embedding)          (None, 1, 50)         678350      user_in[0][0]                    \n",
      "____________________________________________________________________________________________________\n",
      "embedding_2 (Embedding)          (None, 1, 50)         835750      movie_in[0][0]                   \n",
      "____________________________________________________________________________________________________\n",
      "concatenate_1 (Concatenate)      (None, 1, 100)        0           embedding_1[0][0]                \n",
      "                                                                   embedding_2[0][0]                \n",
      "____________________________________________________________________________________________________\n",
      "flatten_1 (Flatten)              (None, 100)           0           concatenate_1[0][0]              \n",
      "____________________________________________________________________________________________________\n",
      "dropout_1 (Dropout)              (None, 100)           0           flatten_1[0][0]                  \n",
      "____________________________________________________________________________________________________\n",
      "dense_1 (Dense)                  (None, 70)            7070        dropout_1[0][0]                  \n",
      "____________________________________________________________________________________________________\n",
      "dropout_2 (Dropout)              (None, 70)            0           dense_1[0][0]                    \n",
      "____________________________________________________________________________________________________\n",
      "dense_2 (Dense)                  (None, 1)             71          dropout_2[0][0]                  \n",
      "====================================================================================================\n",
      "Total params: 1,521,241\n",
      "Trainable params: 1,521,241\n",
      "Non-trainable params: 0\n",
      "____________________________________________________________________________________________________\n"
     ]
    }
   ],
   "source": [
    "nn.summary()"
   ]
  },
  {
   "cell_type": "code",
   "execution_count": 27,
   "metadata": {},
   "outputs": [],
   "source": [
    "x = dot([u, m], axes=2)\n",
    "x = Flatten()(x)\n",
    "model = Model([user_in, movie_in], x)\n",
    "model.compile(Adam(0.001), loss='mse')"
   ]
  },
  {
   "cell_type": "code",
   "execution_count": 28,
   "metadata": {},
   "outputs": [
    {
     "name": "stdout",
     "output_type": "stream",
     "text": [
      "____________________________________________________________________________________________________\n",
      "Layer (type)                     Output Shape          Param #     Connected to                     \n",
      "====================================================================================================\n",
      "user_in (InputLayer)             (None, 1)             0                                            \n",
      "____________________________________________________________________________________________________\n",
      "movie_in (InputLayer)            (None, 1)             0                                            \n",
      "____________________________________________________________________________________________________\n",
      "embedding_1 (Embedding)          (None, 1, 50)         678350      user_in[0][0]                    \n",
      "____________________________________________________________________________________________________\n",
      "embedding_2 (Embedding)          (None, 1, 50)         835750      movie_in[0][0]                   \n",
      "____________________________________________________________________________________________________\n",
      "dot_1 (Dot)                      (None, 1, 1)          0           embedding_1[0][0]                \n",
      "                                                                   embedding_2[0][0]                \n",
      "____________________________________________________________________________________________________\n",
      "flatten_2 (Flatten)              (None, 1)             0           dot_1[0][0]                      \n",
      "====================================================================================================\n",
      "Total params: 1,514,100\n",
      "Trainable params: 1,514,100\n",
      "Non-trainable params: 0\n",
      "____________________________________________________________________________________________________\n"
     ]
    }
   ],
   "source": [
    "model.summary()"
   ]
  },
  {
   "cell_type": "code",
   "execution_count": 26,
   "metadata": {},
   "outputs": [
    {
     "name": "stdout",
     "output_type": "stream",
     "text": [
      "Train on 1598441 samples, validate on 401559 samples\n",
      "Epoch 1/8\n",
      "1598441/1598441 [==============================] - 215s - loss: 1.0819 - val_loss: 0.8723\n",
      "Epoch 2/8\n",
      "1598441/1598441 [==============================] - 216s - loss: 0.9048 - val_loss: 0.8676\n",
      "Epoch 3/8\n",
      "1598441/1598441 [==============================] - 218s - loss: 0.9006 - val_loss: 0.8576\n",
      "Epoch 4/8\n",
      "1598441/1598441 [==============================] - 217s - loss: 0.8980 - val_loss: 0.8531\n",
      "Epoch 5/8\n",
      "1598441/1598441 [==============================] - 217s - loss: 0.8966 - val_loss: 0.8517\n",
      "Epoch 6/8\n",
      "1598441/1598441 [==============================] - 217s - loss: 0.8956 - val_loss: 0.8516\n",
      "Epoch 7/8\n",
      "1598441/1598441 [==============================] - 217s - loss: 0.8958 - val_loss: 0.8543\n",
      "Epoch 8/8\n",
      "1598441/1598441 [==============================] - 217s - loss: 0.8957 - val_loss: 0.8517\n"
     ]
    },
    {
     "data": {
      "text/plain": [
       "<keras.callbacks.History at 0x7fc92868ae80>"
      ]
     },
     "execution_count": 26,
     "metadata": {},
     "output_type": "execute_result"
    }
   ],
   "source": [
    "nn.fit([trn.userId, trn.movieId], trn.rating, batch_size=64, epochs=8, \n",
    "          validation_data=([val.userId, val.movieId], val.rating))"
   ]
  },
  {
   "cell_type": "code",
   "execution_count": 28,
   "metadata": {},
   "outputs": [],
   "source": [
    "nn.save_weights(model_path+'NeuralNet2M.h5')"
   ]
  },
  {
   "cell_type": "code",
   "execution_count": 29,
   "metadata": {},
   "outputs": [
    {
     "data": {
      "text/html": [
       "<div>\n",
       "<style>\n",
       "    .dataframe thead tr:only-child th {\n",
       "        text-align: right;\n",
       "    }\n",
       "\n",
       "    .dataframe thead th {\n",
       "        text-align: left;\n",
       "    }\n",
       "\n",
       "    .dataframe tbody tr th {\n",
       "        vertical-align: top;\n",
       "    }\n",
       "</style>\n",
       "<table border=\"1\" class=\"dataframe\">\n",
       "  <thead>\n",
       "    <tr style=\"text-align: right;\">\n",
       "      <th></th>\n",
       "      <th>userId</th>\n",
       "      <th>movieId</th>\n",
       "      <th>rating</th>\n",
       "      <th>timestamp</th>\n",
       "    </tr>\n",
       "  </thead>\n",
       "  <tbody>\n",
       "    <tr>\n",
       "      <th>979</th>\n",
       "      <td>10</td>\n",
       "      <td>8</td>\n",
       "      <td>4.5</td>\n",
       "      <td>1230858996</td>\n",
       "    </tr>\n",
       "    <tr>\n",
       "      <th>984</th>\n",
       "      <td>10</td>\n",
       "      <td>233</td>\n",
       "      <td>3.5</td>\n",
       "      <td>1230788496</td>\n",
       "    </tr>\n",
       "    <tr>\n",
       "      <th>997</th>\n",
       "      <td>10</td>\n",
       "      <td>182</td>\n",
       "      <td>5.0</td>\n",
       "      <td>1230788713</td>\n",
       "    </tr>\n",
       "    <tr>\n",
       "      <th>999</th>\n",
       "      <td>10</td>\n",
       "      <td>378</td>\n",
       "      <td>1.0</td>\n",
       "      <td>1230787591</td>\n",
       "    </tr>\n",
       "    <tr>\n",
       "      <th>1013</th>\n",
       "      <td>10</td>\n",
       "      <td>408</td>\n",
       "      <td>3.5</td>\n",
       "      <td>1230858873</td>\n",
       "    </tr>\n",
       "    <tr>\n",
       "      <th>1014</th>\n",
       "      <td>10</td>\n",
       "      <td>240</td>\n",
       "      <td>4.0</td>\n",
       "      <td>1230853952</td>\n",
       "    </tr>\n",
       "    <tr>\n",
       "      <th>1019</th>\n",
       "      <td>10</td>\n",
       "      <td>18</td>\n",
       "      <td>4.5</td>\n",
       "      <td>1251143205</td>\n",
       "    </tr>\n",
       "    <tr>\n",
       "      <th>1025</th>\n",
       "      <td>10</td>\n",
       "      <td>242</td>\n",
       "      <td>5.0</td>\n",
       "      <td>1230788340</td>\n",
       "    </tr>\n",
       "    <tr>\n",
       "      <th>1040</th>\n",
       "      <td>10</td>\n",
       "      <td>27</td>\n",
       "      <td>4.5</td>\n",
       "      <td>1230788620</td>\n",
       "    </tr>\n",
       "    <tr>\n",
       "      <th>1044</th>\n",
       "      <td>10</td>\n",
       "      <td>30</td>\n",
       "      <td>5.0</td>\n",
       "      <td>1230787560</td>\n",
       "    </tr>\n",
       "    <tr>\n",
       "      <th>1048</th>\n",
       "      <td>10</td>\n",
       "      <td>186</td>\n",
       "      <td>4.5</td>\n",
       "      <td>1230858825</td>\n",
       "    </tr>\n",
       "    <tr>\n",
       "      <th>1060</th>\n",
       "      <td>10</td>\n",
       "      <td>52</td>\n",
       "      <td>4.0</td>\n",
       "      <td>1230784904</td>\n",
       "    </tr>\n",
       "    <tr>\n",
       "      <th>1067</th>\n",
       "      <td>10</td>\n",
       "      <td>190</td>\n",
       "      <td>5.0</td>\n",
       "      <td>1230787983</td>\n",
       "    </tr>\n",
       "    <tr>\n",
       "      <th>1068</th>\n",
       "      <td>10</td>\n",
       "      <td>191</td>\n",
       "      <td>5.0</td>\n",
       "      <td>1230788734</td>\n",
       "    </tr>\n",
       "    <tr>\n",
       "      <th>1101</th>\n",
       "      <td>10</td>\n",
       "      <td>80</td>\n",
       "      <td>5.0</td>\n",
       "      <td>1230853841</td>\n",
       "    </tr>\n",
       "    <tr>\n",
       "      <th>1113</th>\n",
       "      <td>10</td>\n",
       "      <td>82</td>\n",
       "      <td>4.5</td>\n",
       "      <td>1230858979</td>\n",
       "    </tr>\n",
       "    <tr>\n",
       "      <th>1132</th>\n",
       "      <td>10</td>\n",
       "      <td>355</td>\n",
       "      <td>3.5</td>\n",
       "      <td>1251170690</td>\n",
       "    </tr>\n",
       "    <tr>\n",
       "      <th>1174</th>\n",
       "      <td>10</td>\n",
       "      <td>117</td>\n",
       "      <td>3.5</td>\n",
       "      <td>1230787739</td>\n",
       "    </tr>\n",
       "    <tr>\n",
       "      <th>1181</th>\n",
       "      <td>10</td>\n",
       "      <td>119</td>\n",
       "      <td>4.5</td>\n",
       "      <td>1230859022</td>\n",
       "    </tr>\n",
       "    <tr>\n",
       "      <th>1197</th>\n",
       "      <td>10</td>\n",
       "      <td>125</td>\n",
       "      <td>5.0</td>\n",
       "      <td>1230787506</td>\n",
       "    </tr>\n",
       "    <tr>\n",
       "      <th>1230</th>\n",
       "      <td>10</td>\n",
       "      <td>142</td>\n",
       "      <td>5.0</td>\n",
       "      <td>1230859039</td>\n",
       "    </tr>\n",
       "  </tbody>\n",
       "</table>\n",
       "</div>"
      ],
      "text/plain": [
       "      userId  movieId  rating   timestamp\n",
       "979       10        8     4.5  1230858996\n",
       "984       10      233     3.5  1230788496\n",
       "997       10      182     5.0  1230788713\n",
       "999       10      378     1.0  1230787591\n",
       "1013      10      408     3.5  1230858873\n",
       "1014      10      240     4.0  1230853952\n",
       "1019      10       18     4.5  1251143205\n",
       "1025      10      242     5.0  1230788340\n",
       "1040      10       27     4.5  1230788620\n",
       "1044      10       30     5.0  1230787560\n",
       "1048      10      186     4.5  1230858825\n",
       "1060      10       52     4.0  1230784904\n",
       "1067      10      190     5.0  1230787983\n",
       "1068      10      191     5.0  1230788734\n",
       "1101      10       80     5.0  1230853841\n",
       "1113      10       82     4.5  1230858979\n",
       "1132      10      355     3.5  1251170690\n",
       "1174      10      117     3.5  1230787739\n",
       "1181      10      119     4.5  1230859022\n",
       "1197      10      125     5.0  1230787506\n",
       "1230      10      142     5.0  1230859039"
      ]
     },
     "execution_count": 29,
     "metadata": {},
     "output_type": "execute_result"
    }
   ],
   "source": [
    "val.loc[(ratings['userId'] == 10) & (ratings['movieId'] < 500)]"
   ]
  },
  {
   "cell_type": "code",
   "execution_count": 30,
   "metadata": {},
   "outputs": [
    {
     "data": {
      "text/plain": [
       "array([[ 3.8571]], dtype=float32)"
      ]
     },
     "execution_count": 30,
     "metadata": {},
     "output_type": "execute_result"
    }
   ],
   "source": [
    "nn.predict([np.array([10]), np.array([182])])"
   ]
  },
  {
   "cell_type": "code",
   "execution_count": 31,
   "metadata": {},
   "outputs": [
    {
     "data": {
      "text/plain": [
       "array([[ 3.1541]], dtype=float32)"
      ]
     },
     "execution_count": 31,
     "metadata": {},
     "output_type": "execute_result"
    }
   ],
   "source": [
    "nn.predict([np.array([10]), np.array([378])])"
   ]
  },
  {
   "cell_type": "code",
   "execution_count": 34,
   "metadata": {},
   "outputs": [
    {
     "data": {
      "text/html": [
       "<div>\n",
       "<style>\n",
       "    .dataframe thead tr:only-child th {\n",
       "        text-align: right;\n",
       "    }\n",
       "\n",
       "    .dataframe thead th {\n",
       "        text-align: left;\n",
       "    }\n",
       "\n",
       "    .dataframe tbody tr th {\n",
       "        vertical-align: top;\n",
       "    }\n",
       "</style>\n",
       "<table border=\"1\" class=\"dataframe\">\n",
       "  <thead>\n",
       "    <tr style=\"text-align: right;\">\n",
       "      <th></th>\n",
       "      <th>userId</th>\n",
       "      <th>movieId</th>\n",
       "      <th>rating</th>\n",
       "      <th>timestamp</th>\n",
       "    </tr>\n",
       "  </thead>\n",
       "  <tbody>\n",
       "    <tr>\n",
       "      <th>963</th>\n",
       "      <td>10</td>\n",
       "      <td>2</td>\n",
       "      <td>5.0</td>\n",
       "      <td>1230783095</td>\n",
       "    </tr>\n",
       "    <tr>\n",
       "      <th>981</th>\n",
       "      <td>10</td>\n",
       "      <td>9</td>\n",
       "      <td>5.0</td>\n",
       "      <td>1230787560</td>\n",
       "    </tr>\n",
       "    <tr>\n",
       "      <th>983</th>\n",
       "      <td>10</td>\n",
       "      <td>11</td>\n",
       "      <td>3.5</td>\n",
       "      <td>1230858799</td>\n",
       "    </tr>\n",
       "    <tr>\n",
       "      <th>985</th>\n",
       "      <td>10</td>\n",
       "      <td>12</td>\n",
       "      <td>5.0</td>\n",
       "      <td>1230850571</td>\n",
       "    </tr>\n",
       "    <tr>\n",
       "      <th>989</th>\n",
       "      <td>10</td>\n",
       "      <td>14</td>\n",
       "      <td>4.0</td>\n",
       "      <td>1230858954</td>\n",
       "    </tr>\n",
       "    <tr>\n",
       "      <th>1002</th>\n",
       "      <td>10</td>\n",
       "      <td>15</td>\n",
       "      <td>4.5</td>\n",
       "      <td>1230787503</td>\n",
       "    </tr>\n",
       "    <tr>\n",
       "      <th>1008</th>\n",
       "      <td>10</td>\n",
       "      <td>16</td>\n",
       "      <td>4.5</td>\n",
       "      <td>1230788848</td>\n",
       "    </tr>\n",
       "    <tr>\n",
       "      <th>1010</th>\n",
       "      <td>10</td>\n",
       "      <td>17</td>\n",
       "      <td>5.0</td>\n",
       "      <td>1230858809</td>\n",
       "    </tr>\n",
       "    <tr>\n",
       "      <th>1034</th>\n",
       "      <td>10</td>\n",
       "      <td>22</td>\n",
       "      <td>4.0</td>\n",
       "      <td>1230859011</td>\n",
       "    </tr>\n",
       "    <tr>\n",
       "      <th>1041</th>\n",
       "      <td>10</td>\n",
       "      <td>28</td>\n",
       "      <td>4.5</td>\n",
       "      <td>1230853691</td>\n",
       "    </tr>\n",
       "    <tr>\n",
       "      <th>1046</th>\n",
       "      <td>10</td>\n",
       "      <td>31</td>\n",
       "      <td>4.0</td>\n",
       "      <td>1230858888</td>\n",
       "    </tr>\n",
       "    <tr>\n",
       "      <th>1047</th>\n",
       "      <td>10</td>\n",
       "      <td>32</td>\n",
       "      <td>5.0</td>\n",
       "      <td>1230784277</td>\n",
       "    </tr>\n",
       "    <tr>\n",
       "      <th>1050</th>\n",
       "      <td>10</td>\n",
       "      <td>35</td>\n",
       "      <td>5.0</td>\n",
       "      <td>1230784258</td>\n",
       "    </tr>\n",
       "    <tr>\n",
       "      <th>1051</th>\n",
       "      <td>10</td>\n",
       "      <td>36</td>\n",
       "      <td>3.0</td>\n",
       "      <td>1230785513</td>\n",
       "    </tr>\n",
       "    <tr>\n",
       "      <th>1053</th>\n",
       "      <td>10</td>\n",
       "      <td>40</td>\n",
       "      <td>5.0</td>\n",
       "      <td>1230788851</td>\n",
       "    </tr>\n",
       "  </tbody>\n",
       "</table>\n",
       "</div>"
      ],
      "text/plain": [
       "      userId  movieId  rating   timestamp\n",
       "963       10        2     5.0  1230783095\n",
       "981       10        9     5.0  1230787560\n",
       "983       10       11     3.5  1230858799\n",
       "985       10       12     5.0  1230850571\n",
       "989       10       14     4.0  1230858954\n",
       "1002      10       15     4.5  1230787503\n",
       "1008      10       16     4.5  1230788848\n",
       "1010      10       17     5.0  1230858809\n",
       "1034      10       22     4.0  1230859011\n",
       "1041      10       28     4.5  1230853691\n",
       "1046      10       31     4.0  1230858888\n",
       "1047      10       32     5.0  1230784277\n",
       "1050      10       35     5.0  1230784258\n",
       "1051      10       36     3.0  1230785513\n",
       "1053      10       40     5.0  1230788851"
      ]
     },
     "execution_count": 34,
     "metadata": {},
     "output_type": "execute_result"
    }
   ],
   "source": [
    "trn.loc[(ratings['userId'] == 10) & (ratings['movieId'] < 50)]"
   ]
  },
  {
   "cell_type": "code",
   "execution_count": 36,
   "metadata": {},
   "outputs": [
    {
     "data": {
      "text/plain": [
       "array([[ 4.071]], dtype=float32)"
      ]
     },
     "execution_count": 36,
     "metadata": {},
     "output_type": "execute_result"
    }
   ],
   "source": [
    "nn.predict([np.array([10]), np.array([36])])"
   ]
  },
  {
   "cell_type": "code",
   "execution_count": 37,
   "metadata": {},
   "outputs": [
    {
     "data": {
      "text/plain": [
       "array([[ 3.9164]], dtype=float32)"
      ]
     },
     "execution_count": 37,
     "metadata": {},
     "output_type": "execute_result"
    }
   ],
   "source": [
    "nn.predict([np.array([10]), np.array([2])])"
   ]
  },
  {
   "cell_type": "code",
   "execution_count": 41,
   "metadata": {},
   "outputs": [],
   "source": [
    "g=ratings.groupby('movieId')['rating'].count()\n",
    "allMovies=g.sort_values(ascending=False)[:]\n",
    "allMovies = np.array(allMovies.index)"
   ]
  },
  {
   "cell_type": "code",
   "execution_count": 42,
   "metadata": {},
   "outputs": [
    {
     "data": {
      "text/plain": [
       "(16715, 50)"
      ]
     },
     "execution_count": 42,
     "metadata": {},
     "output_type": "execute_result"
    }
   ],
   "source": [
    "get_movie_emb2 = Model(movie_in, m)\n",
    "movie_emb2 = np.squeeze(get_movie_emb2.predict([allMovies]))\n",
    "movie_emb2.shape"
   ]
  },
  {
   "cell_type": "code",
   "execution_count": 43,
   "metadata": {},
   "outputs": [],
   "source": [
    "from sklearn.decomposition import PCA"
   ]
  },
  {
   "cell_type": "code",
   "execution_count": 44,
   "metadata": {},
   "outputs": [],
   "source": [
    "pca2 = PCA(n_components=3)\n",
    "movie_pca2 = pca2.fit(movie_emb2.T).components_"
   ]
  },
  {
   "cell_type": "code",
   "execution_count": 46,
   "metadata": {},
   "outputs": [],
   "source": [
    "fac20 = movie_pca2[0]\n",
    "movie_comp2 = [(f, movie_names()[moviesUniq[i]]) for f,i in zip(fac20, allMovies)]"
   ]
  },
  {
   "cell_type": "code",
   "execution_count": 47,
   "metadata": {
    "scrolled": true
   },
   "outputs": [
    {
     "data": {
      "text/plain": [
       "[(0.04728831, 'Battlefield Earth (2000)'),\n",
       " (0.04141105, 'Epic Movie (2007)'),\n",
       " (0.040825553, 'Pokémon 3: The Movie (2001)'),\n",
       " (0.039408427, 'I Still Know What You Did Last Summer (1998)'),\n",
       " (0.038491461, 'Dumb and Dumberer: When Harry Met Lloyd (2003)'),\n",
       " (0.038198493, 'Home Alone 3 (1997)'),\n",
       " (0.038085721, 'Problem Child 2 (1991)'),\n",
       " (0.037177954, 'Flintstones in Viva Rock Vegas, The (2000)'),\n",
       " (0.036998585, 'Kazaam (1996)'),\n",
       " (0.036815539, 'Speed 2: Cruise Control (1997)')]"
      ]
     },
     "execution_count": 47,
     "metadata": {},
     "output_type": "execute_result"
    }
   ],
   "source": [
    "sorted(movie_comp2, key=itemgetter(0), reverse=True)[:10]"
   ]
  },
  {
   "cell_type": "code",
   "execution_count": 48,
   "metadata": {
    "scrolled": true
   },
   "outputs": [
    {
     "data": {
      "text/plain": [
       "[(-0.050731085, 'Shawshank Redemption, The (1994)'),\n",
       " (-0.046229541, 'Godfather, The (1972)'),\n",
       " (-0.044474293, 'Usual Suspects, The (1995)'),\n",
       " (-0.044261601, 'Sunset Blvd. (a.k.a. Sunset Boulevard) (1950)'),\n",
       " (-0.043657262, 'Lawrence of Arabia (1962)'),\n",
       " (-0.041478425,\n",
       "  'Dr. Strangelove or: How I Learned to Stop Worrying and Love the Bomb (1964)'),\n",
       " (-0.041379366, 'Chinatown (1974)'),\n",
       " (-0.040410917, 'Cinema Paradiso (Nuovo cinema Paradiso) (1989)'),\n",
       " (-0.040161218, '12 Angry Men (1957)'),\n",
       " (-0.038920972, 'City Lights (1931)')]"
      ]
     },
     "execution_count": 48,
     "metadata": {},
     "output_type": "execute_result"
    }
   ],
   "source": [
    "sorted(movie_comp2, key=itemgetter(0))[:10]"
   ]
  },
  {
   "cell_type": "code",
   "execution_count": 49,
   "metadata": {},
   "outputs": [],
   "source": [
    "fac21 = movie_pca2[1]\n",
    "movie_comp2 = [(f, movie_names()[moviesUniq[i]]) for f,i in zip(fac21, allMovies)]"
   ]
  },
  {
   "cell_type": "code",
   "execution_count": 50,
   "metadata": {
    "scrolled": true
   },
   "outputs": [
    {
     "data": {
      "text/plain": [
       "[(0.062748492, 'Jaws 3-D (1983)'),\n",
       " (0.058641948, 'Star Wars: Episode VI - Return of the Jedi (1983)'),\n",
       " (0.057311919, 'Third Man, The (1949)'),\n",
       " (0.055595081, 'Braveheart (1995)'),\n",
       " (0.051942453, 'White Chicks (2004)'),\n",
       " (0.051211763, 'Boot, Das (Boat, The) (1981)'),\n",
       " (0.049728628, 'Spy Kids 3-D: Game Over (2003)'),\n",
       " (0.049710657, 'Pokémon 3: The Movie (2001)'),\n",
       " (0.04884192, 'Batman & Robin (1997)'),\n",
       " (0.047917981, 'Fugitive, The (1993)')]"
      ]
     },
     "execution_count": 50,
     "metadata": {},
     "output_type": "execute_result"
    }
   ],
   "source": [
    "sorted(movie_comp2, key=itemgetter(0), reverse=True)[:10]"
   ]
  },
  {
   "cell_type": "code",
   "execution_count": 51,
   "metadata": {
    "scrolled": true
   },
   "outputs": [
    {
     "data": {
      "text/plain": [
       "[(-0.055399545, 'Rocky Horror Picture Show, The (1975)'),\n",
       " (-0.052024573, 'A.I. Artificial Intelligence (2001)'),\n",
       " (-0.050738104, 'Willy Wonka & the Chocolate Factory (1971)'),\n",
       " (-0.049199156, 'From Dusk Till Dawn (1996)'),\n",
       " (-0.048858766, 'Ed Wood (1994)'),\n",
       " (-0.047821686, 'Reality Bites (1994)'),\n",
       " (-0.047596447, 'Eyes Wide Shut (1999)'),\n",
       " (-0.045033619, 'Good Girl, The (2002)'),\n",
       " (-0.044815741, 'Who Framed Roger Rabbit? (1988)'),\n",
       " (-0.044741798, 'Gremlins (1984)')]"
      ]
     },
     "execution_count": 51,
     "metadata": {},
     "output_type": "execute_result"
    }
   ],
   "source": [
    "sorted(movie_comp2, key=itemgetter(0))[:10]"
   ]
  },
  {
   "cell_type": "code",
   "execution_count": 52,
   "metadata": {},
   "outputs": [],
   "source": [
    "fac22 = movie_pca2[2]\n",
    "movie_comp2 = [(f, movie_names()[moviesUniq[i]]) for f,i in zip(fac22, allMovies)]"
   ]
  },
  {
   "cell_type": "code",
   "execution_count": 53,
   "metadata": {
    "scrolled": true
   },
   "outputs": [
    {
     "data": {
      "text/plain": [
       "[(0.071639724, 'Independence Day (a.k.a. ID4) (1996)'),\n",
       " (0.068803325, 'Terms of Endearment (1983)'),\n",
       " (0.068718433, 'Star Wars: Episode I - The Phantom Menace (1999)'),\n",
       " (0.062962748, 'Fly, The (1986)'),\n",
       " (0.062834851, 'Titanic (1997)'),\n",
       " (0.056168888, 'Alien (1979)'),\n",
       " (0.054844908, 'Saving Private Ryan (1998)'),\n",
       " (0.054377533, 'Forrest Gump (1994)'),\n",
       " (0.053628422, 'Rat Race (2001)'),\n",
       " (0.052892499, 'Rain Man (1988)')]"
      ]
     },
     "execution_count": 53,
     "metadata": {},
     "output_type": "execute_result"
    }
   ],
   "source": [
    "sorted(movie_comp2, key=itemgetter(0), reverse=True)[:10]"
   ]
  },
  {
   "cell_type": "code",
   "execution_count": 54,
   "metadata": {
    "scrolled": true
   },
   "outputs": [
    {
     "data": {
      "text/plain": [
       "[(-0.067152575, 'Ace Ventura: When Nature Calls (1995)'),\n",
       " (-0.067129076, 'Lethal Weapon 2 (1989)'),\n",
       " (-0.060823381, 'Scary Movie (2000)'),\n",
       " (-0.060506701, 'Evolution (2001)'),\n",
       " (-0.059778083, 'Mask, The (1994)'),\n",
       " (-0.059676897, 'E.T. the Extra-Terrestrial (1982)'),\n",
       " (-0.057853635, 'Star Trek II: The Wrath of Khan (1982)'),\n",
       " (-0.052565765, 'Eraser (1996)'),\n",
       " (-0.05020912, 'Up (2009)'),\n",
       " (-0.048914917, 'Return to Oz (1985)')]"
      ]
     },
     "execution_count": 54,
     "metadata": {},
     "output_type": "execute_result"
    }
   ],
   "source": [
    "sorted(movie_comp2, key=itemgetter(0))[:10]"
   ]
  },
  {
   "cell_type": "code",
   "execution_count": 57,
   "metadata": {},
   "outputs": [
    {
     "data": {
      "image/png": "[encoded data removed]",
      "text/plain": [
       "<matplotlib.figure.Figure at 0x7fc9282a6940>"
      ]
     },
     "metadata": {},
     "output_type": "display_data"
    }
   ],
   "source": [
    "start=0; end=13500\n",
    "X = fac20[start:end]\n",
    "Y = fac21[start:end]\n",
    "plt.figure(figsize=(15,15))\n",
    "plt.scatter(X, Y)\n",
    "for i, x, y in zip(allMovies[start:end], X, Y):\n",
    "    plt.text(x,y,'', color=np.random.rand(3)*0.7, fontsize=14)\n",
    "plt.show()"
   ]
  },
  {
   "cell_type": "code",
   "execution_count": 58,
   "metadata": {},
   "outputs": [
    {
     "data": {
      "image/png": "[encoded data removed]",
      "text/plain": [
       "<matplotlib.figure.Figure at 0x7fc8ec351940>"
      ]
     },
     "metadata": {},
     "output_type": "display_data"
    }
   ],
   "source": [
    "start=0; end=13500\n",
    "X = fac20[start:end]\n",
    "Y = fac22[start:end]\n",
    "plt.figure(figsize=(15,15))\n",
    "plt.scatter(X, Y)\n",
    "for i, x, y in zip(allMovies[start:end], X, Y):\n",
    "    plt.text(x,y,'', color=np.random.rand(3)*0.7, fontsize=14)\n",
    "plt.show()"
   ]
  },
  {
   "cell_type": "code",
   "execution_count": 59,
   "metadata": {},
   "outputs": [
    {
     "data": {
      "image/png": "[encoded data removed]",
      "text/plain": [
       "<matplotlib.figure.Figure at 0x7fc8dcc20048>"
      ]
     },
     "metadata": {},
     "output_type": "display_data"
    }
   ],
   "source": [
    "start=0; end=13500\n",
    "X = fac21[start:end]\n",
    "Y = fac22[start:end]\n",
    "plt.figure(figsize=(15,15))\n",
    "plt.scatter(X, Y)\n",
    "for i, x, y in zip(allMovies[start:end], X, Y):\n",
    "    plt.text(x,y,'', color=np.random.rand(3)*0.7, fontsize=14)\n",
    "plt.show()"
   ]
  },
  {
   "cell_type": "code",
   "execution_count": null,
   "metadata": {},
   "outputs": [],
   "source": []
  }
 ],
 "metadata": {
  "kernelspec": {
   "display_name": "Python 3",
   "language": "python",
   "name": "python3"
  },
  "language_info": {
   "codemirror_mode": {
    "name": "ipython",
    "version": 3
   },
   "file_extension": ".py",
   "mimetype": "text/x-python",
   "name": "python",
   "nbconvert_exporter": "python",
   "pygments_lexer": "ipython3",
   "version": "3.5.2"
  }
 },
 "nbformat": 4,
 "nbformat_minor": 1
}
